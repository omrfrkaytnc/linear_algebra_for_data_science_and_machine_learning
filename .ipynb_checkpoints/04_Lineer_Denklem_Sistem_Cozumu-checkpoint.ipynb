{
 "cells": [
  {
   "cell_type": "markdown",
   "id": "14359d91",
   "metadata": {},
   "source": [
    "## Lineer Denklem Sistemlerinin Çözümü"
   ]
  },
  {
   "cell_type": "markdown",
   "id": "254123e6",
   "metadata": {},
   "source": [
    "**Lineer Denklem Sistemi**\n",
    "\n",
    "$2x_1 + 3x_2 - x_1 = 1$\n",
    "\n",
    "$4x_1 + x_2 + 2x_3 = -2$\n",
    "\n",
    "$-x_1 + 2x_2 + 3x_3 = 3$"
   ]
  },
  {
   "cell_type": "code",
   "id": "6a4d1613",
   "metadata": {
    "ExecuteTime": {
     "end_time": "2024-06-12T03:34:16.972678Z",
     "start_time": "2024-06-12T03:34:16.966590Z"
    }
   },
   "source": [
    "import numpy as np"
   ],
   "outputs": [],
   "execution_count": 2
  },
  {
   "cell_type": "code",
   "id": "47329904",
   "metadata": {
    "ExecuteTime": {
     "end_time": "2024-06-12T03:34:25.359511Z",
     "start_time": "2024-06-12T03:34:25.348581Z"
    }
   },
   "source": [
    "# A = Katsayılar Matrisi\n",
    "A = np.array([[2, 3, -1],\n",
    "             [4, 1, 2],\n",
    "             [-1, 2, 3]])\n",
    "\n",
    "# b = Sabit Terimler Vektörü\n",
    "b = np.array([1, -2, 3])"
   ],
   "outputs": [],
   "execution_count": 3
  },
  {
   "cell_type": "markdown",
   "id": "2a81d0ae",
   "metadata": {},
   "source": [
    "$A \\cdot X = b \\implies X = A^{-1} \\cdot b,$ $\\quad X = [x_1, x_2, x_3]$"
   ]
  },
  {
   "cell_type": "code",
   "id": "5a48ea4a",
   "metadata": {
    "ExecuteTime": {
     "end_time": "2024-06-12T03:34:33.598442Z",
     "start_time": "2024-06-12T03:34:33.552596Z"
    }
   },
   "source": [
    "# A^(-1) = A matrisinin tersi\n",
    "A_inverse = np.linalg.inv(A)"
   ],
   "outputs": [],
   "execution_count": 4
  },
  {
   "cell_type": "code",
   "id": "764c7ea4",
   "metadata": {
    "ExecuteTime": {
     "end_time": "2024-06-12T03:34:39.841296Z",
     "start_time": "2024-06-12T03:34:39.825400Z"
    }
   },
   "source": [
    "# X = A^(-1) . b\n",
    "X = np.matmul(A_inverse, b)"
   ],
   "outputs": [],
   "execution_count": 5
  },
  {
   "cell_type": "code",
   "id": "f4d2976e",
   "metadata": {
    "ExecuteTime": {
     "end_time": "2024-06-12T03:34:48.826223Z",
     "start_time": "2024-06-12T03:34:48.803082Z"
    }
   },
   "source": [
    "print('Lineer Denklem Sisteminin Çözümü')\n",
    "print('x1 =', X[0])\n",
    "print('x2 =', X[1])\n",
    "print('x3 =', X[2])"
   ],
   "outputs": [
    {
     "name": "stdout",
     "output_type": "stream",
     "text": [
      "Lineer Denklem Sisteminin Çözümü\n",
      "x1 = -0.7924528301886793\n",
      "x2 = 0.9056603773584906\n",
      "x3 = 0.1320754716981133\n"
     ]
    }
   ],
   "execution_count": 6
  },
  {
   "cell_type": "markdown",
   "id": "9871ba58",
   "metadata": {},
   "source": [
    "**Lineer Denklem Sistem Çözümü için Fonksiyon Oluşturma**"
   ]
  },
  {
   "cell_type": "code",
   "id": "4de6433a",
   "metadata": {
    "ExecuteTime": {
     "end_time": "2024-06-12T03:35:03.930254Z",
     "start_time": "2024-06-12T03:35:03.921577Z"
    }
   },
   "source": [
    "def lineer_denklem_sistem_cozumu(katsayilar, sabit_terimler):\n",
    "    try:\n",
    "        A = np.array(katsayilar)\n",
    "        b = np.array(sabit_terimler)\n",
    "        A_inverse = np.linalg.inv(A)\n",
    "        X = np.matmul(A_inverse, b)\n",
    "        return X\n",
    "    except np.linalg.LinAlgError:\n",
    "        return \"Bu Lineer Denklem Sisteminin Çözümü Yoktur.\""
   ],
   "outputs": [],
   "execution_count": 7
  },
  {
   "cell_type": "markdown",
   "id": "beb391f8",
   "metadata": {},
   "source": [
    "**Lineer Denklem Sistemi**\n",
    "\n",
    "$2x_1 + 3x_2 - x_1 = 1$\n",
    "\n",
    "$4x_1 + x_2 + 2x_3 = -2$\n",
    "\n",
    "$-x_1 + 2x_2 + 3x_3 = 3$"
   ]
  },
  {
   "cell_type": "code",
   "id": "c6497a68",
   "metadata": {
    "ExecuteTime": {
     "end_time": "2024-06-12T03:35:19.039221Z",
     "start_time": "2024-06-12T03:35:19.031220Z"
    }
   },
   "source": [
    "katsayilar = [[2, 3, -1],\n",
    "             [4, 1, 2],\n",
    "             [-1, 2, 3]]\n",
    "\n",
    "sabit_terimler = [1, -2, 3]"
   ],
   "outputs": [],
   "execution_count": 8
  },
  {
   "cell_type": "code",
   "id": "b2909e7d",
   "metadata": {
    "ExecuteTime": {
     "end_time": "2024-06-12T03:35:24.219119Z",
     "start_time": "2024-06-12T03:35:24.209559Z"
    }
   },
   "source": [
    "X_Cozum = lineer_denklem_sistem_cozumu(katsayilar, sabit_terimler)"
   ],
   "outputs": [],
   "execution_count": 9
  },
  {
   "cell_type": "code",
   "id": "38d2ed68",
   "metadata": {
    "ExecuteTime": {
     "end_time": "2024-06-12T03:35:29.065822Z",
     "start_time": "2024-06-12T03:35:29.050420Z"
    }
   },
   "source": [
    "print('Lineer Denklem Sisteminin Çözümü')\n",
    "print('x1 =', X_Cozum[0])\n",
    "print('x2 =', X_Cozum[1])\n",
    "print('x3 =', X_Cozum[2])"
   ],
   "outputs": [
    {
     "name": "stdout",
     "output_type": "stream",
     "text": [
      "Lineer Denklem Sisteminin Çözümü\n",
      "x1 = -0.7924528301886793\n",
      "x2 = 0.9056603773584906\n",
      "x3 = 0.1320754716981133\n"
     ]
    }
   ],
   "execution_count": 10
  },
  {
   "cell_type": "markdown",
   "id": "d4e5cc46",
   "metadata": {},
   "source": [
    "**NumPy Kütüphanesi ile Lineer Denklem Sistemi Çözümü**"
   ]
  },
  {
   "cell_type": "markdown",
   "id": "adb84ca5",
   "metadata": {},
   "source": [
    "**Lineer Denklem Sistemi**\n",
    "\n",
    "$2x_1 + 3x_2 - x_1 = 1$\n",
    "\n",
    "$4x_1 + x_2 + 2x_3 = -2$\n",
    "\n",
    "$-x_1 + 2x_2 + 3x_3 = 3$"
   ]
  },
  {
   "cell_type": "code",
   "id": "de165b97",
   "metadata": {
    "ExecuteTime": {
     "end_time": "2024-06-12T03:35:40.044793Z",
     "start_time": "2024-06-12T03:35:40.035509Z"
    }
   },
   "source": [
    "# A = Katsayılar Matrisi\n",
    "A = np.array([[2, 3, -1],\n",
    "             [4, 1, 2],\n",
    "             [-1, 2, 3]])\n",
    "\n",
    "# b = Sabit Terimler Vektörü\n",
    "b = np.array([1, -2, 3])\n",
    "\n",
    "# X = Çözüm Vektörü\n",
    "X = np.linalg.solve(A, b)"
   ],
   "outputs": [],
   "execution_count": 11
  },
  {
   "cell_type": "code",
   "id": "f9d9102c",
   "metadata": {
    "ExecuteTime": {
     "end_time": "2024-06-12T03:35:45.398682Z",
     "start_time": "2024-06-12T03:35:45.387987Z"
    }
   },
   "source": [
    "print('Lineer Denklem Sisteminin Çözümü')\n",
    "print('x1 =', X[0])\n",
    "print('x2 =', X[1])\n",
    "print('x3 =', X[2])"
   ],
   "outputs": [
    {
     "name": "stdout",
     "output_type": "stream",
     "text": [
      "Lineer Denklem Sisteminin Çözümü\n",
      "x1 = -0.7924528301886793\n",
      "x2 = 0.9056603773584906\n",
      "x3 = 0.1320754716981132\n"
     ]
    }
   ],
   "execution_count": 12
  },
  {
   "metadata": {},
   "cell_type": "code",
   "outputs": [],
   "execution_count": null,
   "source": "",
   "id": "dad5ed770c53132d"
  }
 ],
 "metadata": {
  "kernelspec": {
   "display_name": "Python 3 (ipykernel)",
   "language": "python",
   "name": "python3"
  },
  "language_info": {
   "codemirror_mode": {
    "name": "ipython",
    "version": 3
   },
   "file_extension": ".py",
   "mimetype": "text/x-python",
   "name": "python",
   "nbconvert_exporter": "python",
   "pygments_lexer": "ipython3",
   "version": "3.11.5"
  }
 },
 "nbformat": 4,
 "nbformat_minor": 5
}
